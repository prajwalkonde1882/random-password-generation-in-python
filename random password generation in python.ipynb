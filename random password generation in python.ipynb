{
 "cells": [
  {
   "cell_type": "code",
   "execution_count": 7,
   "id": "3facf7c7-7a5c-4e45-8dfb-31695a5befcf",
   "metadata": {
    "tags": []
   },
   "outputs": [
    {
     "name": "stdout",
     "output_type": "stream",
     "text": [
      "O\n",
      "Oj\n",
      "OjV\n",
      "OjVA\n",
      "OjVAh\n",
      "OjVAhb\n",
      "OjVAhb*\n",
      "OjVAhb*7\n",
      "OjVAhb*7R\n",
      "OjVAhb*7Rq\n"
     ]
    }
   ],
   "source": [
    "import secrets\n",
    "import string\n",
    "import random\n",
    "\n",
    "letters = string.ascii_letters\n",
    "\n",
    "digits = string.digits\n",
    "\n",
    "special_chars = string.punctuation\n",
    "\n",
    "selection_list = letters + digits + special_chars\n",
    "\n",
    "password_len = 10\n",
    "\n",
    "password = ''\n",
    "for i in range(password_len):\n",
    "    password+= ''.join(secrets.choice(selection_list))\n",
    "    print(password)"
   ]
  },
  {
   "cell_type": "code",
   "execution_count": null,
   "id": "a043411f-11e3-417c-91ce-f59f3912eed0",
   "metadata": {},
   "outputs": [],
   "source": []
  }
 ],
 "metadata": {
  "kernelspec": {
   "display_name": "Python 3 (ipykernel)",
   "language": "python",
   "name": "python3"
  },
  "language_info": {
   "codemirror_mode": {
    "name": "ipython",
    "version": 3
   },
   "file_extension": ".py",
   "mimetype": "text/x-python",
   "name": "python",
   "nbconvert_exporter": "python",
   "pygments_lexer": "ipython3",
   "version": "3.11.4"
  },
  "widgets": {
   "application/vnd.jupyter.widget-state+json": {
    "state": {},
    "version_major": 2,
    "version_minor": 0
   }
  }
 },
 "nbformat": 4,
 "nbformat_minor": 5
}
